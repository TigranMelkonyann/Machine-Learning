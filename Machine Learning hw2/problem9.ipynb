{
  "nbformat": 4,
  "nbformat_minor": 0,
  "metadata": {
    "colab": {
      "provenance": []
    },
    "kernelspec": {
      "name": "python3",
      "display_name": "Python 3"
    },
    "language_info": {
      "name": "python"
    }
  },
  "cells": [
    {
      "cell_type": "code",
      "execution_count": 1,
      "metadata": {
        "id": "ODh_8Kp7bgj9"
      },
      "outputs": [],
      "source": [
        "import numpy as np\n",
        "import matplotlib.pyplot as plt\n",
        "from tensorflow.keras.datasets import mnist\n",
        "from tensorflow.keras.utils import to_categorical\n",
        "from tensorflow.keras.models import Sequential\n",
        "from tensorflow.keras.layers import Dense, Flatten, Conv2D, MaxPooling2D, Dropout\n",
        "from tensorflow.keras.optimizers import Adam"
      ]
    },
    {
      "cell_type": "code",
      "source": [
        "(x_train, y_train), (x_test, y_test) = mnist.load_data()\n",
        "\n",
        "x_train = x_train.astype('float32') / 255.0\n",
        "x_test = x_test.astype('float32') / 255.0\n",
        "\n",
        "x_train_cnn = x_train.reshape(-1, 28, 28, 1)\n",
        "x_test_cnn = x_test.reshape(-1, 28, 28, 1)\n",
        "\n",
        "y_train_cat = to_categorical(y_train, 10)\n",
        "y_test_cat = to_categorical(y_test, 10)"
      ],
      "metadata": {
        "id": "w3Q4CzdzbsK6"
      },
      "execution_count": 6,
      "outputs": []
    },
    {
      "cell_type": "code",
      "source": [
        "def create_dnn():\n",
        "    model = Sequential([\n",
        "        Flatten(input_shape=(28, 28)),\n",
        "        Dense(512, activation='relu'),\n",
        "        Dropout(0.2),\n",
        "        Dense(256, activation='relu'),\n",
        "        Dropout(0.2),\n",
        "        Dense(10, activation='softmax')\n",
        "    ])\n",
        "    model.compile(optimizer=Adam(), loss='categorical_crossentropy', metrics=['accuracy'])\n",
        "    return model"
      ],
      "metadata": {
        "id": "YXq3qymvbx43"
      },
      "execution_count": 7,
      "outputs": []
    },
    {
      "cell_type": "code",
      "source": [
        "def create_cnn():\n",
        "    model = Sequential([\n",
        "        Conv2D(32, kernel_size=(3, 3), activation='relu', input_shape=(28, 28, 1)),\n",
        "        MaxPooling2D(pool_size=(2, 2)),\n",
        "        Conv2D(64, kernel_size=(3, 3), activation='relu'),\n",
        "        MaxPooling2D(pool_size=(2, 2)),\n",
        "        Flatten(),\n",
        "        Dense(128, activation='relu'),\n",
        "        Dropout(0.5),\n",
        "        Dense(10, activation='softmax')\n",
        "    ])\n",
        "    model.compile(optimizer=Adam(), loss='categorical_crossentropy', metrics=['accuracy'])\n",
        "    return model"
      ],
      "metadata": {
        "id": "bte-_y1Ib2hq"
      },
      "execution_count": 9,
      "outputs": []
    },
    {
      "cell_type": "code",
      "source": [
        "dnn = create_dnn()\n",
        "cnn = create_cnn()\n",
        "\n",
        "# Train DNN\n",
        "history_dnn = dnn.fit(x_train, y_train_cat, epochs=10, batch_size=128, validation_split=0.1, verbose=2)\n",
        "\n",
        "# Train CNN\n",
        "history_cnn = cnn.fit(x_train_cnn, y_train_cat, epochs=10, batch_size=128, validation_split=0.1, verbose=2)"
      ],
      "metadata": {
        "colab": {
          "base_uri": "https://localhost:8080/"
        },
        "id": "hzgGAb8qb7vT",
        "outputId": "79de4b93-6c65-41f4-bd8d-80e61636ba7d"
      },
      "execution_count": 10,
      "outputs": [
        {
          "output_type": "stream",
          "name": "stderr",
          "text": [
            "/usr/local/lib/python3.11/dist-packages/keras/src/layers/reshaping/flatten.py:37: UserWarning: Do not pass an `input_shape`/`input_dim` argument to a layer. When using Sequential models, prefer using an `Input(shape)` object as the first layer in the model instead.\n",
            "  super().__init__(**kwargs)\n",
            "/usr/local/lib/python3.11/dist-packages/keras/src/layers/convolutional/base_conv.py:107: UserWarning: Do not pass an `input_shape`/`input_dim` argument to a layer. When using Sequential models, prefer using an `Input(shape)` object as the first layer in the model instead.\n",
            "  super().__init__(activity_regularizer=activity_regularizer, **kwargs)\n"
          ]
        },
        {
          "output_type": "stream",
          "name": "stdout",
          "text": [
            "Epoch 1/10\n",
            "422/422 - 8s - 20ms/step - accuracy: 0.9164 - loss: 0.2787 - val_accuracy: 0.9710 - val_loss: 0.0931\n",
            "Epoch 2/10\n",
            "422/422 - 10s - 23ms/step - accuracy: 0.9661 - loss: 0.1108 - val_accuracy: 0.9755 - val_loss: 0.0804\n",
            "Epoch 3/10\n",
            "422/422 - 6s - 14ms/step - accuracy: 0.9759 - loss: 0.0786 - val_accuracy: 0.9792 - val_loss: 0.0782\n",
            "Epoch 4/10\n",
            "422/422 - 10s - 25ms/step - accuracy: 0.9803 - loss: 0.0615 - val_accuracy: 0.9788 - val_loss: 0.0713\n",
            "Epoch 5/10\n",
            "422/422 - 7s - 16ms/step - accuracy: 0.9838 - loss: 0.0500 - val_accuracy: 0.9803 - val_loss: 0.0612\n",
            "Epoch 6/10\n",
            "422/422 - 9s - 22ms/step - accuracy: 0.9872 - loss: 0.0401 - val_accuracy: 0.9843 - val_loss: 0.0656\n",
            "Epoch 7/10\n",
            "422/422 - 7s - 16ms/step - accuracy: 0.9880 - loss: 0.0367 - val_accuracy: 0.9845 - val_loss: 0.0613\n",
            "Epoch 8/10\n",
            "422/422 - 6s - 14ms/step - accuracy: 0.9895 - loss: 0.0308 - val_accuracy: 0.9807 - val_loss: 0.0757\n",
            "Epoch 9/10\n",
            "422/422 - 10s - 24ms/step - accuracy: 0.9909 - loss: 0.0288 - val_accuracy: 0.9837 - val_loss: 0.0640\n",
            "Epoch 10/10\n",
            "422/422 - 7s - 16ms/step - accuracy: 0.9915 - loss: 0.0251 - val_accuracy: 0.9800 - val_loss: 0.0790\n",
            "Epoch 1/10\n",
            "422/422 - 41s - 97ms/step - accuracy: 0.8997 - loss: 0.3259 - val_accuracy: 0.9827 - val_loss: 0.0619\n",
            "Epoch 2/10\n",
            "422/422 - 40s - 96ms/step - accuracy: 0.9695 - loss: 0.1049 - val_accuracy: 0.9850 - val_loss: 0.0491\n",
            "Epoch 3/10\n",
            "422/422 - 41s - 96ms/step - accuracy: 0.9779 - loss: 0.0746 - val_accuracy: 0.9882 - val_loss: 0.0420\n",
            "Epoch 4/10\n",
            "422/422 - 41s - 97ms/step - accuracy: 0.9815 - loss: 0.0612 - val_accuracy: 0.9898 - val_loss: 0.0383\n",
            "Epoch 5/10\n",
            "422/422 - 41s - 96ms/step - accuracy: 0.9844 - loss: 0.0508 - val_accuracy: 0.9892 - val_loss: 0.0334\n",
            "Epoch 6/10\n",
            "422/422 - 42s - 98ms/step - accuracy: 0.9869 - loss: 0.0441 - val_accuracy: 0.9918 - val_loss: 0.0299\n",
            "Epoch 7/10\n",
            "422/422 - 41s - 97ms/step - accuracy: 0.9881 - loss: 0.0387 - val_accuracy: 0.9905 - val_loss: 0.0372\n",
            "Epoch 8/10\n",
            "422/422 - 41s - 97ms/step - accuracy: 0.9891 - loss: 0.0363 - val_accuracy: 0.9918 - val_loss: 0.0303\n",
            "Epoch 9/10\n",
            "422/422 - 41s - 97ms/step - accuracy: 0.9901 - loss: 0.0313 - val_accuracy: 0.9905 - val_loss: 0.0330\n",
            "Epoch 10/10\n",
            "422/422 - 42s - 99ms/step - accuracy: 0.9915 - loss: 0.0272 - val_accuracy: 0.9913 - val_loss: 0.0342\n"
          ]
        }
      ]
    },
    {
      "cell_type": "code",
      "source": [
        "dnn_test_loss, dnn_test_acc = dnn.evaluate(x_test, y_test_cat, verbose=0)\n",
        "cnn_test_loss, cnn_test_acc = cnn.evaluate(x_test_cnn, y_test_cat, verbose=0)\n",
        "\n",
        "print(f\"DNN Test Accuracy: {dnn_test_acc:.4f}\")\n",
        "print(f\"CNN Test Accuracy: {cnn_test_acc:.4f}\")\n"
      ],
      "metadata": {
        "colab": {
          "base_uri": "https://localhost:8080/"
        },
        "id": "hra9aN0Rd3Vg",
        "outputId": "e4d782bd-85bd-4ede-b165-b7a38185eae7"
      },
      "execution_count": 11,
      "outputs": [
        {
          "output_type": "stream",
          "name": "stdout",
          "text": [
            "DNN Test Accuracy: 0.9809\n",
            "CNN Test Accuracy: 0.9913\n"
          ]
        }
      ]
    }
  ]
}